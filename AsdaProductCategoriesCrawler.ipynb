{
 "cells": [
  {
   "cell_type": "code",
   "execution_count": 1,
   "id": "e91a128d",
   "metadata": {},
   "outputs": [
    {
     "name": "stdout",
     "output_type": "stream",
     "text": [
      "importing Jupyter notebook from AsdaSitemapCrawler.ipynb\n",
      "importing Jupyter notebook from AsdaCatalogueCrawler.ipynb\n"
     ]
    }
   ],
   "source": [
    "import import_ipynb\n",
    "import pandas as pd\n",
    "from AsdaSitemapCrawler import get_categorised_urls_from_sitemap\n",
    "from AsdaCatalogueCrawler import get_all_product_urls\n",
    "from time import sleep"
   ]
  },
  {
   "cell_type": "code",
   "execution_count": 2,
   "id": "87d0ad6c",
   "metadata": {},
   "outputs": [
    {
     "name": "stdout",
     "output_type": "stream",
     "text": [
      "Number of URLs: 3705\n"
     ]
    },
    {
     "data": {
      "text/html": [
       "<div>\n",
       "<style scoped>\n",
       "    .dataframe tbody tr th:only-of-type {\n",
       "        vertical-align: middle;\n",
       "    }\n",
       "\n",
       "    .dataframe tbody tr th {\n",
       "        vertical-align: top;\n",
       "    }\n",
       "\n",
       "    .dataframe thead th {\n",
       "        text-align: right;\n",
       "    }\n",
       "</style>\n",
       "<table border=\"1\" class=\"dataframe\">\n",
       "  <thead>\n",
       "    <tr style=\"text-align: right;\">\n",
       "      <th></th>\n",
       "      <th>Type</th>\n",
       "      <th>Category</th>\n",
       "      <th>SubCategory</th>\n",
       "      <th>URL</th>\n",
       "    </tr>\n",
       "  </thead>\n",
       "  <tbody>\n",
       "    <tr>\n",
       "      <th>0</th>\n",
       "      <td>cat</td>\n",
       "      <td>summer</td>\n",
       "      <td>NaN</td>\n",
       "      <td>https://groceries.asda.com/cat/summer/12156847...</td>\n",
       "    </tr>\n",
       "    <tr>\n",
       "      <th>1</th>\n",
       "      <td>dept</td>\n",
       "      <td>summer</td>\n",
       "      <td>bbq</td>\n",
       "      <td>https://groceries.asda.com/dept/summer/bbq/121...</td>\n",
       "    </tr>\n",
       "    <tr>\n",
       "      <th>2</th>\n",
       "      <td>aisle</td>\n",
       "      <td>summer</td>\n",
       "      <td>bbq</td>\n",
       "      <td>https://groceries.asda.com/aisle/summer/bbq/vi...</td>\n",
       "    </tr>\n",
       "    <tr>\n",
       "      <th>3</th>\n",
       "      <td>aisle</td>\n",
       "      <td>summer</td>\n",
       "      <td>bbq</td>\n",
       "      <td>https://groceries.asda.com/aisle/summer/bbq/so...</td>\n",
       "    </tr>\n",
       "    <tr>\n",
       "      <th>4</th>\n",
       "      <td>shelf</td>\n",
       "      <td>summer</td>\n",
       "      <td>bbq</td>\n",
       "      <td>https://groceries.asda.com/shelf/summer/bbq/so...</td>\n",
       "    </tr>\n",
       "  </tbody>\n",
       "</table>\n",
       "</div>"
      ],
      "text/plain": [
       "    Type Category SubCategory  \\\n",
       "0    cat   summer         NaN   \n",
       "1   dept   summer         bbq   \n",
       "2  aisle   summer         bbq   \n",
       "3  aisle   summer         bbq   \n",
       "4  shelf   summer         bbq   \n",
       "\n",
       "                                                 URL  \n",
       "0  https://groceries.asda.com/cat/summer/12156847...  \n",
       "1  https://groceries.asda.com/dept/summer/bbq/121...  \n",
       "2  https://groceries.asda.com/aisle/summer/bbq/vi...  \n",
       "3  https://groceries.asda.com/aisle/summer/bbq/so...  \n",
       "4  https://groceries.asda.com/shelf/summer/bbq/so...  "
      ]
     },
     "execution_count": 2,
     "metadata": {},
     "output_type": "execute_result"
    }
   ],
   "source": [
    "sitemap_url= 'https://groceries.asda.com/sitemap-category.xml'\n",
    "urls_df = get_categorised_urls_from_sitemap(sitemap_url)\n",
    "urls_df.head(5)"
   ]
  },
  {
   "cell_type": "code",
   "execution_count": 3,
   "id": "913f47e6",
   "metadata": {},
   "outputs": [
    {
     "data": {
      "text/plain": [
       "array(['summer', 'price-locked', 'fruit-veg-flowers', 'meat-poultry-fish',\n",
       "       'bakery', 'chilled-food', 'frozen-food', 'food-cupboard', 'drinks',\n",
       "       'beer-wine-spirits', 'toiletries-beauty', 'laundry-household',\n",
       "       'baby-toddler-kids', 'pet-food-accessories', 'health-wellness',\n",
       "       'home-entertainment', 'free-from', 'vegan-plant-based',\n",
       "       'world-local-food', 'organic', 'big-night-in', 'extra-special',\n",
       "       'better-for-you', 'price-match'], dtype=object)"
      ]
     },
     "execution_count": 3,
     "metadata": {},
     "output_type": "execute_result"
    }
   ],
   "source": [
    "urls_df[\"Category\"].unique()"
   ]
  },
  {
   "cell_type": "code",
   "execution_count": 4,
   "id": "d567d937",
   "metadata": {},
   "outputs": [
    {
     "data": {
      "text/plain": [
       "('https://groceries.asda.com/aisle/food-cupboard/cereals-cereal-bars/everyday-family-cereals/1215337189632-1215337194729-1215650880276',\n",
       " 140)"
      ]
     },
     "execution_count": 4,
     "metadata": {},
     "output_type": "execute_result"
    }
   ],
   "source": [
    "scope = urls_df[(urls_df[\"Category\"]==\"food-cupboard\") & (urls_df[\"Type\"]==\"aisle\")][\"URL\"]\n",
    "scope.iloc[0], len(scope)"
   ]
  },
  {
   "cell_type": "code",
   "execution_count": 5,
   "id": "9678c9c3",
   "metadata": {},
   "outputs": [],
   "source": [
    "def create_batches(urls, n):\n",
    "    # looping till length l\n",
    "    for i in range(0, len(urls), n): \n",
    "        yield urls[i:i + n]"
   ]
  },
  {
   "cell_type": "code",
   "execution_count": null,
   "id": "390ee841",
   "metadata": {},
   "outputs": [],
   "source": [
    "all_urls = pd.DataFrame()\n",
    "urls_completed = {\"SUCCESS\":[], \"UNSUCCESSFUL\":[]}"
   ]
  },
  {
   "cell_type": "code",
   "execution_count": 15,
   "id": "1ae8f9b9",
   "metadata": {},
   "outputs": [
    {
     "data": {
      "text/plain": [
       "847     https://groceries.asda.com/aisle/food-cupboard...\n",
       "961     https://groceries.asda.com/aisle/food-cupboard...\n",
       "978     https://groceries.asda.com/aisle/food-cupboard...\n",
       "979     https://groceries.asda.com/aisle/food-cupboard...\n",
       "980     https://groceries.asda.com/aisle/food-cupboard...\n",
       "                              ...                        \n",
       "1221    https://groceries.asda.com/aisle/food-cupboard...\n",
       "1222    https://groceries.asda.com/aisle/food-cupboard...\n",
       "1227    https://groceries.asda.com/aisle/food-cupboard...\n",
       "1232    https://groceries.asda.com/aisle/food-cupboard...\n",
       "1233    https://groceries.asda.com/aisle/food-cupboard...\n",
       "Name: URL, Length: 92, dtype: object"
      ]
     },
     "execution_count": 15,
     "metadata": {},
     "output_type": "execute_result"
    }
   ],
   "source": [
    "scope[~scope.isin(all_urls[\"parent_url\"])]"
   ]
  },
  {
   "cell_type": "code",
   "execution_count": 25,
   "id": "834b0062",
   "metadata": {},
   "outputs": [
    {
     "name": "stdout",
     "output_type": "stream",
     "text": [
      "Input URL: https://groceries.asda.com/aisle/food-cupboard/tinned-food/tinned-fruit/1215337189632-1215165876400-1215678984489\n",
      "Max number of pages = 1\n",
      "Number of URLs extracted: 38\n",
      "Input URL: https://groceries.asda.com/aisle/food-cupboard/tinned-food/lunch-ideas/1215337189632-1215165876400-1215686353377\n",
      "Could not load this page to crawl for product URLs, please check the URL provided.\n",
      "Input URL: https://groceries.asda.com/aisle/food-cupboard/home-baking/sugar-sweeteners/1215337189632-1215166245874-1215188566722\n",
      "Max number of pages = 1\n",
      "Number of URLs extracted: 52\n",
      "Input URL: https://groceries.asda.com/aisle/food-cupboard/home-baking/ready-set-bake/1215337189632-1215166245874-1215686354814\n",
      "Could not load this page to crawl for product URLs, please check the URL provided.\n",
      "Input URL: https://groceries.asda.com/aisle/food-cupboard/home-baking/syrup-treacle/1215337189632-1215166245874-1215686353975\n",
      "Max number of pages = 1\n",
      "Number of URLs extracted: 15\n",
      "Input URL: https://groceries.asda.com/aisle/food-cupboard/jams-spreads-desserts/syrup-treacle/1215337189632-1215685491665-1215685491671\n",
      "Max number of pages = 1\n",
      "Number of URLs extracted: 15\n",
      "Input URL: https://groceries.asda.com/aisle/food-cupboard/better-for-you-food-cupboard/better-for-you-cereals-cereal-bars/1215337189632-1215686354655-1215686354697\n",
      "Max number of pages = 2\n",
      "Number of URLs extracted: 66\n",
      "Input URL: https://groceries.asda.com/aisle/food-cupboard/better-for-you-food-cupboard/better-for-you-soup/1215337189632-1215686354655-1215686354700\n",
      "Max number of pages = 2\n",
      "Number of URLs extracted: 63\n",
      "Input URL: https://groceries.asda.com/aisle/food-cupboard/better-for-you-food-cupboard/better-for-you-rice-pasta-cous-cous/1215337189632-1215686354655-1215686354702\n",
      "Max number of pages = 1\n",
      "Number of URLs extracted: 38\n",
      "Input URL: https://groceries.asda.com/aisle/food-cupboard/better-for-you-food-cupboard/better-for-you-noodle-pots-instant-snacks/1215337189632-1215686354655-1215686354704\n",
      "Max number of pages = 1\n",
      "Number of URLs extracted: 10\n",
      "Input URL: https://groceries.asda.com/aisle/food-cupboard/better-for-you-food-cupboard/better-for-you-tinned-vegetables/1215337189632-1215686354655-1215686354706\n",
      "Max number of pages = 1\n",
      "Number of URLs extracted: 46\n",
      "Input URL: https://groceries.asda.com/aisle/food-cupboard/better-for-you-food-cupboard/better-for-you-tinned-fruit-desserts/1215337189632-1215686354655-1215686354708\n",
      "Max number of pages = 2\n",
      "Number of URLs extracted: 88\n",
      "Input URL: https://groceries.asda.com/aisle/food-cupboard/better-for-you-food-cupboard/better-for-you-crisps-nuts/1215337189632-1215686354655-1215686354662\n",
      "Max number of pages = 3\n",
      "Number of URLs extracted: 127\n",
      "Input URL: https://groceries.asda.com/aisle/food-cupboard/better-for-you-food-cupboard/better-for-you-biscuits-crackers/1215337189632-1215686354655-1215686354676\n",
      "Max number of pages = 2\n",
      "Number of URLs extracted: 115\n",
      "Input URL: https://groceries.asda.com/aisle/food-cupboard/better-for-you-food-cupboard/better-for-you-chocolate-sweets/1215337189632-1215686354655-1215686354674\n",
      "Max number of pages = 1\n",
      "Number of URLs extracted: 18\n",
      "Current Size of URLs collected: 6349\n"
     ]
    }
   ],
   "source": [
    "for batch in create_batches(scope[~scope.isin(all_urls[\"parent_url\"])], 25):\n",
    "    for url in batch:\n",
    "        df = get_all_product_urls(url)\n",
    "        if isinstance(df, type(None)):\n",
    "            urls_completed[\"UNSUCCESSFUL\"].append(url)    \n",
    "        else:\n",
    "            urls_completed[\"SUCCESS\"].append(url)\n",
    "            all_urls = pd.concat([all_urls, df], ignore_index=True)\n",
    "        sleep(5)\n",
    "    print(f\"Current Size of URLs collected: {all_urls.shape[0]}\")\n",
    "    sleep(30)"
   ]
  },
  {
   "cell_type": "code",
   "execution_count": 30,
   "id": "e356d794",
   "metadata": {},
   "outputs": [
    {
     "data": {
      "text/plain": [
       "(138, 2)"
      ]
     },
     "execution_count": 30,
     "metadata": {},
     "output_type": "execute_result"
    }
   ],
   "source": [
    "len(set(urls_completed[\"SUCCESS\"])), len(set(urls_completed[\"UNSUCCESSFUL\"]))"
   ]
  },
  {
   "cell_type": "code",
   "execution_count": 29,
   "id": "c5c2eaa8",
   "metadata": {},
   "outputs": [
    {
     "data": {
      "text/plain": [
       "(131,)"
      ]
     },
     "execution_count": 29,
     "metadata": {},
     "output_type": "execute_result"
    }
   ],
   "source": [
    "all_urls[\"parent_url\"].unique().shape"
   ]
  },
  {
   "cell_type": "code",
   "execution_count": 26,
   "id": "e5b4c273",
   "metadata": {},
   "outputs": [
    {
     "data": {
      "text/html": [
       "<div>\n",
       "<style scoped>\n",
       "    .dataframe tbody tr th:only-of-type {\n",
       "        vertical-align: middle;\n",
       "    }\n",
       "\n",
       "    .dataframe tbody tr th {\n",
       "        vertical-align: top;\n",
       "    }\n",
       "\n",
       "    .dataframe thead th {\n",
       "        text-align: right;\n",
       "    }\n",
       "</style>\n",
       "<table border=\"1\" class=\"dataframe\">\n",
       "  <thead>\n",
       "    <tr style=\"text-align: right;\">\n",
       "      <th></th>\n",
       "      <th>page_no</th>\n",
       "      <th>product_name</th>\n",
       "      <th>url</th>\n",
       "      <th>parent_url</th>\n",
       "    </tr>\n",
       "  </thead>\n",
       "  <tbody>\n",
       "    <tr>\n",
       "      <th>0</th>\n",
       "      <td>1</td>\n",
       "      <td>Kit Kat Chocolate Cereal</td>\n",
       "      <td>https://groceries.asda.com/product/family-cere...</td>\n",
       "      <td>https://groceries.asda.com/aisle/food-cupboard...</td>\n",
       "    </tr>\n",
       "    <tr>\n",
       "      <th>1</th>\n",
       "      <td>1</td>\n",
       "      <td>Weetabix Cereal</td>\n",
       "      <td>https://groceries.asda.com/product/wheat-biscu...</td>\n",
       "      <td>https://groceries.asda.com/aisle/food-cupboard...</td>\n",
       "    </tr>\n",
       "    <tr>\n",
       "      <th>2</th>\n",
       "      <td>1</td>\n",
       "      <td>Weetabix Crispy Minis Chocolate Chip</td>\n",
       "      <td>https://groceries.asda.com/product/family-cere...</td>\n",
       "      <td>https://groceries.asda.com/aisle/food-cupboard...</td>\n",
       "    </tr>\n",
       "    <tr>\n",
       "      <th>3</th>\n",
       "      <td>1</td>\n",
       "      <td>Kellogg's Coco Pops</td>\n",
       "      <td>https://groceries.asda.com/product/family-cere...</td>\n",
       "      <td>https://groceries.asda.com/aisle/food-cupboard...</td>\n",
       "    </tr>\n",
       "    <tr>\n",
       "      <th>4</th>\n",
       "      <td>1</td>\n",
       "      <td>Kellogg's Rice Krispies</td>\n",
       "      <td>https://groceries.asda.com/product/family-cere...</td>\n",
       "      <td>https://groceries.asda.com/aisle/food-cupboard...</td>\n",
       "    </tr>\n",
       "    <tr>\n",
       "      <th>...</th>\n",
       "      <td>...</td>\n",
       "      <td>...</td>\n",
       "      <td>...</td>\n",
       "      <td>...</td>\n",
       "    </tr>\n",
       "    <tr>\n",
       "      <th>6344</th>\n",
       "      <td>1</td>\n",
       "      <td>Wrigley's Extra Refreshers Peppermint Sugar Fr...</td>\n",
       "      <td>https://groceries.asda.com/product/chewing-gum...</td>\n",
       "      <td>https://groceries.asda.com/aisle/food-cupboard...</td>\n",
       "    </tr>\n",
       "    <tr>\n",
       "      <th>6345</th>\n",
       "      <td>1</td>\n",
       "      <td>Mentos Gum Pure Fresh Bubble Fresh Sugar Free ...</td>\n",
       "      <td>https://groceries.asda.com/product/chewing-gum...</td>\n",
       "      <td>https://groceries.asda.com/aisle/food-cupboard...</td>\n",
       "    </tr>\n",
       "    <tr>\n",
       "      <th>6346</th>\n",
       "      <td>1</td>\n",
       "      <td>Wrigley's Extra Refreshers Tropical Sugar Free...</td>\n",
       "      <td>https://groceries.asda.com/product/chewing-gum...</td>\n",
       "      <td>https://groceries.asda.com/aisle/food-cupboard...</td>\n",
       "    </tr>\n",
       "    <tr>\n",
       "      <th>6347</th>\n",
       "      <td>1</td>\n",
       "      <td>Mentos Gum Pure Fresh Tropical Sugar Free Chew...</td>\n",
       "      <td>https://groceries.asda.com/product/chewing-gum...</td>\n",
       "      <td>https://groceries.asda.com/aisle/food-cupboard...</td>\n",
       "    </tr>\n",
       "    <tr>\n",
       "      <th>6348</th>\n",
       "      <td>1</td>\n",
       "      <td>Mentos Gum Pure Fresh Spearmint Sugar Free Che...</td>\n",
       "      <td>https://groceries.asda.com/product/chewing-gum...</td>\n",
       "      <td>https://groceries.asda.com/aisle/food-cupboard...</td>\n",
       "    </tr>\n",
       "  </tbody>\n",
       "</table>\n",
       "<p>6349 rows × 4 columns</p>\n",
       "</div>"
      ],
      "text/plain": [
       "     page_no                                       product_name  \\\n",
       "0          1                           Kit Kat Chocolate Cereal   \n",
       "1          1                                    Weetabix Cereal   \n",
       "2          1               Weetabix Crispy Minis Chocolate Chip   \n",
       "3          1                                Kellogg's Coco Pops   \n",
       "4          1                            Kellogg's Rice Krispies   \n",
       "...      ...                                                ...   \n",
       "6344       1  Wrigley's Extra Refreshers Peppermint Sugar Fr...   \n",
       "6345       1  Mentos Gum Pure Fresh Bubble Fresh Sugar Free ...   \n",
       "6346       1  Wrigley's Extra Refreshers Tropical Sugar Free...   \n",
       "6347       1  Mentos Gum Pure Fresh Tropical Sugar Free Chew...   \n",
       "6348       1  Mentos Gum Pure Fresh Spearmint Sugar Free Che...   \n",
       "\n",
       "                                                    url  \\\n",
       "0     https://groceries.asda.com/product/family-cere...   \n",
       "1     https://groceries.asda.com/product/wheat-biscu...   \n",
       "2     https://groceries.asda.com/product/family-cere...   \n",
       "3     https://groceries.asda.com/product/family-cere...   \n",
       "4     https://groceries.asda.com/product/family-cere...   \n",
       "...                                                 ...   \n",
       "6344  https://groceries.asda.com/product/chewing-gum...   \n",
       "6345  https://groceries.asda.com/product/chewing-gum...   \n",
       "6346  https://groceries.asda.com/product/chewing-gum...   \n",
       "6347  https://groceries.asda.com/product/chewing-gum...   \n",
       "6348  https://groceries.asda.com/product/chewing-gum...   \n",
       "\n",
       "                                             parent_url  \n",
       "0     https://groceries.asda.com/aisle/food-cupboard...  \n",
       "1     https://groceries.asda.com/aisle/food-cupboard...  \n",
       "2     https://groceries.asda.com/aisle/food-cupboard...  \n",
       "3     https://groceries.asda.com/aisle/food-cupboard...  \n",
       "4     https://groceries.asda.com/aisle/food-cupboard...  \n",
       "...                                                 ...  \n",
       "6344  https://groceries.asda.com/aisle/food-cupboard...  \n",
       "6345  https://groceries.asda.com/aisle/food-cupboard...  \n",
       "6346  https://groceries.asda.com/aisle/food-cupboard...  \n",
       "6347  https://groceries.asda.com/aisle/food-cupboard...  \n",
       "6348  https://groceries.asda.com/aisle/food-cupboard...  \n",
       "\n",
       "[6349 rows x 4 columns]"
      ]
     },
     "execution_count": 26,
     "metadata": {},
     "output_type": "execute_result"
    }
   ],
   "source": [
    "all_urls"
   ]
  },
  {
   "cell_type": "code",
   "execution_count": 27,
   "id": "a2446058",
   "metadata": {},
   "outputs": [
    {
     "data": {
      "text/html": [
       "<div>\n",
       "<style scoped>\n",
       "    .dataframe tbody tr th:only-of-type {\n",
       "        vertical-align: middle;\n",
       "    }\n",
       "\n",
       "    .dataframe tbody tr th {\n",
       "        vertical-align: top;\n",
       "    }\n",
       "\n",
       "    .dataframe thead th {\n",
       "        text-align: right;\n",
       "    }\n",
       "</style>\n",
       "<table border=\"1\" class=\"dataframe\">\n",
       "  <thead>\n",
       "    <tr style=\"text-align: right;\">\n",
       "      <th></th>\n",
       "      <th>page_no</th>\n",
       "      <th>product_name</th>\n",
       "      <th>url</th>\n",
       "      <th>parent_url</th>\n",
       "    </tr>\n",
       "  </thead>\n",
       "  <tbody>\n",
       "    <tr>\n",
       "      <th>0</th>\n",
       "      <td>1</td>\n",
       "      <td>Kit Kat Chocolate Cereal</td>\n",
       "      <td>https://groceries.asda.com/product/family-cere...</td>\n",
       "      <td>https://groceries.asda.com/aisle/food-cupboard...</td>\n",
       "    </tr>\n",
       "    <tr>\n",
       "      <th>1</th>\n",
       "      <td>1</td>\n",
       "      <td>Weetabix Cereal</td>\n",
       "      <td>https://groceries.asda.com/product/wheat-biscu...</td>\n",
       "      <td>https://groceries.asda.com/aisle/food-cupboard...</td>\n",
       "    </tr>\n",
       "    <tr>\n",
       "      <th>2</th>\n",
       "      <td>1</td>\n",
       "      <td>Weetabix Crispy Minis Chocolate Chip</td>\n",
       "      <td>https://groceries.asda.com/product/family-cere...</td>\n",
       "      <td>https://groceries.asda.com/aisle/food-cupboard...</td>\n",
       "    </tr>\n",
       "    <tr>\n",
       "      <th>3</th>\n",
       "      <td>1</td>\n",
       "      <td>Kellogg's Coco Pops</td>\n",
       "      <td>https://groceries.asda.com/product/family-cere...</td>\n",
       "      <td>https://groceries.asda.com/aisle/food-cupboard...</td>\n",
       "    </tr>\n",
       "    <tr>\n",
       "      <th>4</th>\n",
       "      <td>1</td>\n",
       "      <td>Kellogg's Rice Krispies</td>\n",
       "      <td>https://groceries.asda.com/product/family-cere...</td>\n",
       "      <td>https://groceries.asda.com/aisle/food-cupboard...</td>\n",
       "    </tr>\n",
       "    <tr>\n",
       "      <th>...</th>\n",
       "      <td>...</td>\n",
       "      <td>...</td>\n",
       "      <td>...</td>\n",
       "      <td>...</td>\n",
       "    </tr>\n",
       "    <tr>\n",
       "      <th>5662</th>\n",
       "      <td>1</td>\n",
       "      <td>Wrigley's Extra Refreshers Peppermint Sugar Fr...</td>\n",
       "      <td>https://groceries.asda.com/product/chewing-gum...</td>\n",
       "      <td>https://groceries.asda.com/aisle/food-cupboard...</td>\n",
       "    </tr>\n",
       "    <tr>\n",
       "      <th>5663</th>\n",
       "      <td>1</td>\n",
       "      <td>Mentos Gum Pure Fresh Bubble Fresh Sugar Free ...</td>\n",
       "      <td>https://groceries.asda.com/product/chewing-gum...</td>\n",
       "      <td>https://groceries.asda.com/aisle/food-cupboard...</td>\n",
       "    </tr>\n",
       "    <tr>\n",
       "      <th>5664</th>\n",
       "      <td>1</td>\n",
       "      <td>Wrigley's Extra Refreshers Tropical Sugar Free...</td>\n",
       "      <td>https://groceries.asda.com/product/chewing-gum...</td>\n",
       "      <td>https://groceries.asda.com/aisle/food-cupboard...</td>\n",
       "    </tr>\n",
       "    <tr>\n",
       "      <th>5665</th>\n",
       "      <td>1</td>\n",
       "      <td>Mentos Gum Pure Fresh Tropical Sugar Free Chew...</td>\n",
       "      <td>https://groceries.asda.com/product/chewing-gum...</td>\n",
       "      <td>https://groceries.asda.com/aisle/food-cupboard...</td>\n",
       "    </tr>\n",
       "    <tr>\n",
       "      <th>5666</th>\n",
       "      <td>1</td>\n",
       "      <td>Mentos Gum Pure Fresh Spearmint Sugar Free Che...</td>\n",
       "      <td>https://groceries.asda.com/product/chewing-gum...</td>\n",
       "      <td>https://groceries.asda.com/aisle/food-cupboard...</td>\n",
       "    </tr>\n",
       "  </tbody>\n",
       "</table>\n",
       "<p>5667 rows × 4 columns</p>\n",
       "</div>"
      ],
      "text/plain": [
       "     page_no                                       product_name  \\\n",
       "0          1                           Kit Kat Chocolate Cereal   \n",
       "1          1                                    Weetabix Cereal   \n",
       "2          1               Weetabix Crispy Minis Chocolate Chip   \n",
       "3          1                                Kellogg's Coco Pops   \n",
       "4          1                            Kellogg's Rice Krispies   \n",
       "...      ...                                                ...   \n",
       "5662       1  Wrigley's Extra Refreshers Peppermint Sugar Fr...   \n",
       "5663       1  Mentos Gum Pure Fresh Bubble Fresh Sugar Free ...   \n",
       "5664       1  Wrigley's Extra Refreshers Tropical Sugar Free...   \n",
       "5665       1  Mentos Gum Pure Fresh Tropical Sugar Free Chew...   \n",
       "5666       1  Mentos Gum Pure Fresh Spearmint Sugar Free Che...   \n",
       "\n",
       "                                                    url  \\\n",
       "0     https://groceries.asda.com/product/family-cere...   \n",
       "1     https://groceries.asda.com/product/wheat-biscu...   \n",
       "2     https://groceries.asda.com/product/family-cere...   \n",
       "3     https://groceries.asda.com/product/family-cere...   \n",
       "4     https://groceries.asda.com/product/family-cere...   \n",
       "...                                                 ...   \n",
       "5662  https://groceries.asda.com/product/chewing-gum...   \n",
       "5663  https://groceries.asda.com/product/chewing-gum...   \n",
       "5664  https://groceries.asda.com/product/chewing-gum...   \n",
       "5665  https://groceries.asda.com/product/chewing-gum...   \n",
       "5666  https://groceries.asda.com/product/chewing-gum...   \n",
       "\n",
       "                                             parent_url  \n",
       "0     https://groceries.asda.com/aisle/food-cupboard...  \n",
       "1     https://groceries.asda.com/aisle/food-cupboard...  \n",
       "2     https://groceries.asda.com/aisle/food-cupboard...  \n",
       "3     https://groceries.asda.com/aisle/food-cupboard...  \n",
       "4     https://groceries.asda.com/aisle/food-cupboard...  \n",
       "...                                                 ...  \n",
       "5662  https://groceries.asda.com/aisle/food-cupboard...  \n",
       "5663  https://groceries.asda.com/aisle/food-cupboard...  \n",
       "5664  https://groceries.asda.com/aisle/food-cupboard...  \n",
       "5665  https://groceries.asda.com/aisle/food-cupboard...  \n",
       "5666  https://groceries.asda.com/aisle/food-cupboard...  \n",
       "\n",
       "[5667 rows x 4 columns]"
      ]
     },
     "execution_count": 27,
     "metadata": {},
     "output_type": "execute_result"
    }
   ],
   "source": [
    "all_urls.drop_duplicates(subset=[\"product_name\", \"url\"], keep='last', inplace=True)\n",
    "all_urls=all_urls.reset_index(drop=True)\n",
    "all_urls"
   ]
  },
  {
   "cell_type": "code",
   "execution_count": 31,
   "id": "b469ab32",
   "metadata": {},
   "outputs": [],
   "source": [
    "all_urls.to_csv(\"all_urls.csv\")"
   ]
  },
  {
   "cell_type": "code",
   "execution_count": null,
   "id": "dbf9f719",
   "metadata": {},
   "outputs": [],
   "source": []
  }
 ],
 "metadata": {
  "kernelspec": {
   "display_name": "Python 3 (ipykernel)",
   "language": "python",
   "name": "python3"
  },
  "language_info": {
   "codemirror_mode": {
    "name": "ipython",
    "version": 3
   },
   "file_extension": ".py",
   "mimetype": "text/x-python",
   "name": "python",
   "nbconvert_exporter": "python",
   "pygments_lexer": "ipython3",
   "version": "3.9.13"
  }
 },
 "nbformat": 4,
 "nbformat_minor": 5
}
