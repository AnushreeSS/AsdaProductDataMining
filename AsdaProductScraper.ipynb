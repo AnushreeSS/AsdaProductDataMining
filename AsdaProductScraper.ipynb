{
 "cells": [
  {
   "cell_type": "code",
   "execution_count": null,
   "id": "93a59c6c",
   "metadata": {},
   "outputs": [],
   "source": [
    "from selenium import webdriver\n",
    "from selenium.webdriver.support.ui import WebDriverWait \n",
    "from selenium.webdriver.support import expected_conditions as EC\n",
    "from selenium.webdriver.common.by import By\n",
    "\n",
    "import time"
   ]
  },
  {
   "cell_type": "code",
   "execution_count": null,
   "id": "cec9d42c",
   "metadata": {},
   "outputs": [],
   "source": [
    "### Web Scraper\n",
    "This component will help in getting product description given a product URL.\n",
    "\n",
    "Note: To crawl or scrape data from a website, ensure that the URLs are allowed on robot.txt of the website.\n",
    "For ASDA robot.txt can be found here - https://groceries.asda.com/robots.txt "
   ]
  },
  {
   "cell_type": "code",
   "execution_count": null,
   "id": "34261f23",
   "metadata": {},
   "outputs": [],
   "source": [
    "def get_product_info(url):\n",
    "    \"\"\"\n",
    "    This function is used to get product description from a given product URL.\n",
    "    Input: url (String)\n",
    "    Output: product_details (Dictionary) with product code and other descriptions.\n",
    "    \"\"\"\n",
    "    product_code_class = \"pdp-main-details__product-code\"\n",
    "    product_description_class = \"pdp-description-reviews__product-details-cntr\"\n",
    "    product_desc_title_class = \"pdp-description-reviews__product-details-title\"\n",
    "    product_desc_content_class = \"pdp-description-reviews__product-details-content\"\n",
    "\n",
    "    # Initialize Firefox WebDriver\n",
    "    driver = webdriver.Firefox()\n",
    "\n",
    "    # Load the product page\n",
    "    driver.get(url)\n",
    "    \n",
    "    # Handle Alert\n",
    "    wait = WebDriverWait(driver, 10)  \n",
    "    wait.until(EC.presence_of_element_located((By.ID, \"onetrust-accept-btn-handler\")))\n",
    "    alert = driver.find_element_by_id('onetrust-accept-btn-handler')\n",
    "    alert.click()\n",
    "\n",
    "    product_details = {}\n",
    "    \n",
    "    # Get product code\n",
    "    wait = WebDriverWait(driver, 30)  \n",
    "    product_code = wait.until(EC.presence_of_element_located((By.CLASS_NAME, product_code_class)))\n",
    "    product_details[\"Product Code\"] = product_code.text.split()[-1]\n",
    "    \n",
    "    wait = WebDriverWait(driver, 10)\n",
    "    wait.until(EC.presence_of_element_located((By.CLASS_NAME, product_description_class)))\n",
    "    \n",
    "    # Get all product descriptions\n",
    "    descriptions = driver.find_elements_by_class_name(product_description_class)\n",
    "    \n",
    "    # Add any description titles that you would like to exclude\n",
    "    exclude_titles = [\"Net Content\", \"Ingredients\", \"Nutritional Values\", \"Storage\", \n",
    "                       \"Manufacturer Address\", \"Return To\", \"ASDA Product Information\"]\n",
    "    \n",
    "    # Iterate through all product descriptions\n",
    "    for desc in descriptions:\n",
    "        # Get description sub-title\n",
    "        title = desc.find_element(By.CLASS_NAME, product_desc_title_class).text\n",
    "        if title in exclude_titles:\n",
    "            continue\n",
    "        # Get content under the sub-section\n",
    "        content = desc.find_element(By.CLASS_NAME, product_desc_content_class).text\n",
    "        product_details[title]=content\n",
    "    \n",
    "    driver.quit()\n",
    "    return product_details"
   ]
  },
  {
   "cell_type": "code",
   "execution_count": null,
   "id": "73a466cb",
   "metadata": {},
   "outputs": [],
   "source": [
    "product_url = \"https://groceries.asda.com/product/cornflakes-honey-nut/kelloggs-crunchy-nut-clusters-chocolate/1000383170056\"\n",
    "get_product_info(product_url)"
   ]
  }
 ],
 "metadata": {
  "kernelspec": {
   "display_name": "Python 3 (ipykernel)",
   "language": "python",
   "name": "python3"
  },
  "language_info": {
   "codemirror_mode": {
    "name": "ipython",
    "version": 3
   },
   "file_extension": ".py",
   "mimetype": "text/x-python",
   "name": "python",
   "nbconvert_exporter": "python",
   "pygments_lexer": "ipython3",
   "version": "3.9.13"
  }
 },
 "nbformat": 4,
 "nbformat_minor": 5
}
